{
  "nbformat": 4,
  "nbformat_minor": 0,
  "metadata": {
    "colab": {
      "name": "Assignment 5.ipynb",
      "provenance": [],
      "collapsed_sections": []
    },
    "kernelspec": {
      "name": "python3",
      "display_name": "Python 3"
    },
    "language_info": {
      "name": "python"
    }
  },
  "cells": [
    {
      "cell_type": "markdown",
      "metadata": {
        "id": "m_wQrZIyf_DP"
      },
      "source": [
        "# Assignment 5"
      ]
    },
    {
      "cell_type": "markdown",
      "metadata": {
        "id": "LlYfm-HTgLES"
      },
      "source": [
        "####Referral Id-SIRSS2223\n",
        "####Name-Aishwarya Rajesh Rule\n",
        "####College-Shah and Anchor Kutchhi Engineering College"
      ]
    },
    {
      "cell_type": "markdown",
      "metadata": {
        "id": "JBf9NnV6G_Jx"
      },
      "source": [
        "Q1. Given a list of integers, write a function to return the sum of all prime numbers in that\n",
        "list."
      ]
    },
    {
      "cell_type": "code",
      "metadata": {
        "id": "pm9Mfft8G5Iu",
        "colab": {
          "base_uri": "https://localhost:8080/"
        },
        "outputId": "c7696611-27fd-4830-bb54-d9710fbc484e"
      },
      "source": [
        "\n",
        "def sum_prime(list_1):\n",
        "  sum1=0\n",
        "  for i in list_1:\n",
        "    for j in range(2,i):\n",
        "      if (i%j==0):\n",
        "        sum1=sum1+i\n",
        "        break\n",
        "  print(\"Sum of Prime numbers in the list is {0}\".format(sum(list_1)-sum1))\n",
        "\n",
        "n=int(input(\"Enter size of list:\"))\n",
        "list_1=[]\n",
        "for i in range(n):\n",
        "  val=int(input(\"Enter element:\"))\n",
        "  list_1.append(val)\n",
        "\n",
        "sum_prime(list_1)"
      ],
      "execution_count": 1,
      "outputs": [
        {
          "output_type": "stream",
          "name": "stdout",
          "text": [
            "Enter size of list:4\n",
            "Enter element:23\n",
            "Enter element:21\n",
            "Enter element:41\n",
            "Enter element:45\n",
            "Sum of Prime numbers in the list is 64\n"
          ]
        }
      ]
    },
    {
      "cell_type": "markdown",
      "metadata": {
        "id": "ZL3sWEVKG-i8"
      },
      "source": [
        "Q2. Given a list of integers, write a function to check whether the list is strictly increasing or\n",
        "not."
      ]
    },
    {
      "cell_type": "code",
      "metadata": {
        "colab": {
          "base_uri": "https://localhost:8080/"
        },
        "id": "aVICxTAcM_Kd",
        "outputId": "e3cf4265-b45c-47c9-a5b1-5036dc9a7baa"
      },
      "source": [
        "def strict_increasing(list_1):\n",
        "  for i in range(len(list_1)-1):\n",
        "    if list_1[i]>list_1[i+1]:\n",
        "      print(\"The list is not strictly increasing.\")\n",
        "      break\n",
        "  else:\n",
        "    print(\"This list is strictly increasing.\")\n",
        "\n",
        "n=int(input(\"Enter size of list:\"))\n",
        "list_1=[]\n",
        "for i in range(n):\n",
        "  val=int(input(\"Enter element:\"))\n",
        "  list_1.append(val)\n",
        "strict_increasing(list_1)"
      ],
      "execution_count": 2,
      "outputs": [
        {
          "output_type": "stream",
          "name": "stdout",
          "text": [
            "Enter size of list:4\n",
            "Enter element:2\n",
            "Enter element:4\n",
            "Enter element:6\n",
            "Enter element:21\n",
            "This list is strictly increasing.\n"
          ]
        }
      ]
    },
    {
      "cell_type": "markdown",
      "metadata": {
        "id": "GOb3_4olOnaR"
      },
      "source": [
        "Q3. Write a function to check whether a given list is expanding or not (the difference\n",
        "between adjacent elements should keep on increasing)."
      ]
    },
    {
      "cell_type": "code",
      "metadata": {
        "colab": {
          "base_uri": "https://localhost:8080/"
        },
        "id": "Y-Nm3JGMN4Wc",
        "outputId": "6c5232fb-3541-430d-8c05-0487d2b2f2f8"
      },
      "source": [
        "def expanding(list_1):\n",
        "  for i in range(1,len(list_1)-1):\n",
        "    if (list_1[i]-list_1[i-1]>=list_1[i+1]-list_1[i]):\n",
        "      print(\"The list is not expanding.\")\n",
        "      break\n",
        "  else:\n",
        "    print(\"The list is expanding.\")\n",
        "\n",
        "n=int(input(\"Enter size of list:\"))\n",
        "list_1=[]\n",
        "for i in range(n):\n",
        "  val=int(input(\"Enter element:\"))\n",
        "  list_1.append(val)\n",
        "expanding(list_1)"
      ],
      "execution_count": 3,
      "outputs": [
        {
          "output_type": "stream",
          "name": "stdout",
          "text": [
            "Enter size of list:4\n",
            "Enter element:2\n",
            "Enter element:8\n",
            "Enter element:15\n",
            "Enter element:29\n",
            "The list is expanding.\n"
          ]
        }
      ]
    },
    {
      "cell_type": "markdown",
      "metadata": {
        "id": "_Ol089kdRVSS"
      },
      "source": [
        "Q4. Write a function to calculate all permutations of a given string. (Without using itertools)"
      ]
    },
    {
      "cell_type": "code",
      "metadata": {
        "colab": {
          "base_uri": "https://localhost:8080/"
        },
        "id": "cgxqWU9MROu4",
        "outputId": "60c4a043-877d-4ab8-dd6f-4b79619ae75c"
      },
      "source": [
        "def permute_string(str1,l,r):\n",
        "  if l==r:\n",
        "    print(\"\".join(str1))\n",
        "  else:\n",
        "    for i in range(l,r+1):\n",
        "      str1[l],str1[i]=str1[i],str1[l]\n",
        "      permute_string(str1,l+1,r)\n",
        "      str1[l],str1[i]=str1[i],str1[l]\n",
        "      \n",
        "str1=input(\"Enter a string:\")\n",
        "str1=str1.lower()\n",
        "str1=list(str1)\n",
        "list1=[]\n",
        "permute_string(str1,0,len(str1)-1)\n"
      ],
      "execution_count": 4,
      "outputs": [
        {
          "output_type": "stream",
          "name": "stdout",
          "text": [
            "Enter a string:abcd\n",
            "abcd\n",
            "abdc\n",
            "acbd\n",
            "acdb\n",
            "adcb\n",
            "adbc\n",
            "bacd\n",
            "badc\n",
            "bcad\n",
            "bcda\n",
            "bdca\n",
            "bdac\n",
            "cbad\n",
            "cbda\n",
            "cabd\n",
            "cadb\n",
            "cdab\n",
            "cdba\n",
            "dbca\n",
            "dbac\n",
            "dcba\n",
            "dcab\n",
            "dacb\n",
            "dabc\n"
          ]
        }
      ]
    },
    {
      "cell_type": "code",
      "metadata": {
        "id": "_Ge9Qmy7Unxr"
      },
      "source": [
        ""
      ],
      "execution_count": null,
      "outputs": []
    }
  ]
}